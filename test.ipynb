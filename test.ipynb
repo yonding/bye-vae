{
 "cells": [
  {
   "cell_type": "code",
   "execution_count": 1,
   "metadata": {},
   "outputs": [
    {
     "name": "stdout",
     "output_type": "stream",
     "text": [
      "Using device:  cuda\n",
      "-----------------SETTINGS-------------------\n",
      "f : /home/kayoung/.local/share/jupyter/runtime/kernel-v2-1809248KGVXqW46C7FA.json\n",
      "dataset_name : ortho\n",
      "missing_pattern : single\n",
      "val_rate : 0.2\n",
      "test_rate : 0.1\n",
      "col_remove : 1\n",
      "include_complete : False\n",
      "max_remove_count : 2\n",
      "new_num_per_origin : 10\n",
      "epochs : 1000\n",
      "H1 : 1024\n",
      "H2 : 512\n",
      "H3 : 256\n",
      "H4 : 128\n",
      "latent_dim : 3\n",
      "batch_size : 1024\n",
      "device : cuda\n",
      "--------------------------------------------\n",
      "input data shape:  (393, 21)\n",
      "-------------------------------\n",
      "input data shape:  (112, 21)\n",
      "-------------------------------\n",
      "input data shape:  (57, 21)\n",
      "-------------------------------\n"
     ]
    }
   ],
   "source": [
    "from get_args import parse_args\n",
    "from load_datasets import load_data\n",
    "\n",
    "args = parse_args()\n",
    "\n",
    "print(\"-----------------SETTINGS-------------------\")\n",
    "for arg in vars(args):\n",
    "    print(arg, ':', getattr(args, arg))\n",
    "print(\"--------------------------------------------\")\n",
    "\n",
    "X_miss_train, Z_miss_train, y_miss_train, X_miss_val, Z_miss_val, y_miss_val, X_miss_test, Z_miss_test, y_miss_test = load_data(args)\n",
    "\n"
   ]
  },
  {
   "cell_type": "code",
   "execution_count": null,
   "metadata": {},
   "outputs": [],
   "source": []
  }
 ],
 "metadata": {
  "kernelspec": {
   "display_name": "Python 3",
   "language": "python",
   "name": "python3"
  },
  "language_info": {
   "codemirror_mode": {
    "name": "ipython",
    "version": 3
   },
   "file_extension": ".py",
   "mimetype": "text/x-python",
   "name": "python",
   "nbconvert_exporter": "python",
   "pygments_lexer": "ipython3",
   "version": "3.7.13"
  }
 },
 "nbformat": 4,
 "nbformat_minor": 2
}
